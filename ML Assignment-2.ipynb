{
 "cells": [
  {
   "cell_type": "code",
   "execution_count": 3,
   "id": "c18590a8",
   "metadata": {},
   "outputs": [
    {
     "name": "stdout",
     "output_type": "stream",
     "text": [
      "*\r\n",
      "**\r\n",
      "***\r\n",
      "****\r\n",
      "*****\r\n",
      "****\r\n",
      "***\r\n",
      "**\r\n",
      "*\r\n",
      "\r\n"
     ]
    }
   ],
   "source": [
    "i=5\n",
    "for x in range(0,i):\n",
    "    for y in range(0,x+1):\n",
    "        print(\"*\",end = '')\n",
    "    print(\"\\r\")\n",
    "for x in range(i,0,-1):\n",
    "    for y in range(0,x-1):\n",
    "        print(\"*\",end ='')\n",
    "    print(\"\\r\")"
   ]
  },
  {
   "cell_type": "code",
   "execution_count": 4,
   "id": "eed5a461",
   "metadata": {},
   "outputs": [
    {
     "name": "stdout",
     "output_type": "stream",
     "text": [
      "Elements present in odd indexes\n",
      "20 40 60 80 100 "
     ]
    }
   ],
   "source": [
    "my_list = [10, 20, 30, 40, 50, 60, 70, 80, 90, 100]\n",
    "print(\"Elements present in odd indexes\")\n",
    "for x in my_list [1::2]:\n",
    "    print(x, end=' ')"
   ]
  },
  {
   "cell_type": "code",
   "execution_count": 6,
   "id": "7a1c5673",
   "metadata": {},
   "outputs": [
    {
     "name": "stdout",
     "output_type": "stream",
     "text": [
      "[23, 'python', 23.98]\n",
      "[<class 'int'>, <class 'str'>, <class 'float'>]\n"
     ]
    }
   ],
   "source": [
    "i=[23,'python',23.98]\n",
    "outputx = []\n",
    "for output in range(len(i)):\n",
    "    outputx.append(type(i[output]))\n",
    "print(i)\n",
    "print(outputx)"
   ]
  },
  {
   "cell_type": "code",
   "execution_count": 5,
   "id": "7769eb38",
   "metadata": {},
   "outputs": [
    {
     "name": "stdout",
     "output_type": "stream",
     "text": [
      "[1, 2, 3, 4, 5]\n"
     ]
    }
   ],
   "source": [
    "SampleList: [1,2,3,3,3,3,4,5]\n",
    "uniquelist = []\n",
    "def numbers (SampleList):\n",
    "    for x in SampleList:\n",
    "        if x not in uniquelist: \n",
    "            uniquelist.append(x)\n",
    "    return uniquelist\n",
    "print(numbers([1,2,3,3,3,3,4,5]))"
   ]
  },
  {
   "cell_type": "code",
   "execution_count": 10,
   "id": "39d6304a",
   "metadata": {},
   "outputs": [
    {
     "name": "stdout",
     "output_type": "stream",
     "text": [
      "Input String :  The quick Brow Fox\n",
      "Number of Upper-case characters:  3\n",
      "Number of lower-case characters:  12\n"
     ]
    }
   ],
   "source": [
    "def uplow(string):\n",
    "    ul={\"u_case\": 0, \"l_case\":0} \n",
    "    for i in string:\n",
    "        if i.isupper():\n",
    "            ul[\"u_case\"]+=1\n",
    "        elif i.islower():\n",
    "            ul[\"l_case\"]+=1\n",
    "        else:\n",
    "            pass\n",
    "    print(\"Input String : \", string)\n",
    "    print(\"Number of Upper-case characters: \", ul[\"u_case\"]) \n",
    "    print(\"Number of lower-case characters: \", ul[\"l_case\"])\n",
    "uplow(\"The quick Brow Fox\")"
   ]
  },
  {
   "cell_type": "code",
   "execution_count": null,
   "id": "d9878911",
   "metadata": {},
   "outputs": [],
   "source": []
  }
 ],
 "metadata": {
  "kernelspec": {
   "display_name": "Python 3 (ipykernel)",
   "language": "python",
   "name": "python3"
  },
  "language_info": {
   "codemirror_mode": {
    "name": "ipython",
    "version": 3
   },
   "file_extension": ".py",
   "mimetype": "text/x-python",
   "name": "python",
   "nbconvert_exporter": "python",
   "pygments_lexer": "ipython3",
   "version": "3.11.1"
  }
 },
 "nbformat": 4,
 "nbformat_minor": 5
}
